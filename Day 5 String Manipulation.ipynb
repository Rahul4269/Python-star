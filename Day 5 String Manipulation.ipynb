{
 "cells": [
  {
   "cell_type": "markdown",
   "metadata": {},
   "source": [
    "# 1.\tPython program to check if a string is palindrome or not"
   ]
  },
  {
   "cell_type": "code",
   "execution_count": 5,
   "metadata": {},
   "outputs": [
    {
     "name": "stdout",
     "output_type": "stream",
     "text": [
      "enter value:aba\n",
      "string is palindrom\n"
     ]
    }
   ],
   "source": [
    "a=input(\"enter value:\")\n",
    "b=a[::-1]\n",
    "if (a==b):\n",
    "    print(\"string is palindrom\")\n",
    "else:\n",
    "    print(\"string is not palindrom\")\n"
   ]
  },
  {
   "cell_type": "markdown",
   "metadata": {},
   "source": [
    "# 2.\tReverse words in a given String in Python."
   ]
  },
  {
   "cell_type": "code",
   "execution_count": 6,
   "metadata": {},
   "outputs": [
    {
     "name": "stdout",
     "output_type": "stream",
     "text": [
      "enter value:rahul\n"
     ]
    },
    {
     "data": {
      "text/plain": [
       "'luhar'"
      ]
     },
     "execution_count": 6,
     "metadata": {},
     "output_type": "execute_result"
    }
   ],
   "source": [
    "a=input(\"enter value:\")\n",
    "b=a[::-1]\n",
    "b"
   ]
  },
  {
   "cell_type": "markdown",
   "metadata": {},
   "source": [
    "# 3.\tPython Program to Count the Number of Vowels in a String."
   ]
  },
  {
   "cell_type": "code",
   "execution_count": 9,
   "metadata": {},
   "outputs": [
    {
     "name": "stdout",
     "output_type": "stream",
     "text": [
      "Enter string:aukkk\n",
      "Number of vowels are: 2\n"
     ]
    }
   ],
   "source": [
    "string=input(\"Enter string:\")\n",
    "vowels=0\n",
    "for i in string:\n",
    "      if(i=='a' or i=='e' or i=='i' or i=='o' or i=='u' or i=='A' or i=='E' or i=='I' or i=='O' or i=='U'):\n",
    "            vowels=vowels+1\n",
    "print(\"Number of vowels are:\",vowels)\n"
   ]
  },
  {
   "cell_type": "markdown",
   "metadata": {},
   "source": [
    "# 4.\tWays to remove i’th character from string in Python"
   ]
  },
  {
   "cell_type": "code",
   "execution_count": 10,
   "metadata": {},
   "outputs": [
    {
     "name": "stdout",
     "output_type": "stream",
     "text": [
      "The original string is : GeeksForGeeks\n",
      "The string after removal of i'th character : GeksForGeeks\n"
     ]
    }
   ],
   "source": [
    "test_str = \"GeeksForGeeks\"\n",
    "  \n",
    " \n",
    "print (\"The original string is : \" + test_str) \n",
    "  \n",
    " \n",
    "new_str = \"\" \n",
    "  \n",
    "for i in range(len(test_str)): \n",
    "    if i != 2: \n",
    "        new_str = new_str + test_str[i] \n",
    "  \n",
    "  \n",
    "print (\"The string after removal of i'th character : \" + new_str) "
   ]
  },
  {
   "cell_type": "markdown",
   "metadata": {},
   "source": [
    "# 5.\tPython program to Check if a Substring is Present in a Given String."
   ]
  },
  {
   "cell_type": "code",
   "execution_count": 11,
   "metadata": {},
   "outputs": [
    {
     "name": "stdout",
     "output_type": "stream",
     "text": [
      "YES\n"
     ]
    }
   ],
   "source": [
    "def check(s2, s1): \n",
    "\tif (s2.count(s1)>0):\t \n",
    "\t\tprint(\"YES\") \n",
    "\telse: \n",
    "\t\tprint(\"NO\") \n",
    "\t\t\t\n",
    "s2 = \"A geek in need is a geek indeed\"\n",
    "s1 =\"geek\"\n",
    "check(s2, s1) \n"
   ]
  },
  {
   "cell_type": "markdown",
   "metadata": {},
   "source": [
    "# 6.\tPython Program to Calculate the Length of a String Without Using a Library Function"
   ]
  },
  {
   "cell_type": "code",
   "execution_count": 14,
   "metadata": {},
   "outputs": [
    {
     "name": "stdout",
     "output_type": "stream",
     "text": [
      "Enter string:rahul\n",
      "Length of the string is:\n",
      "5\n"
     ]
    }
   ],
   "source": [
    "string=input(\"Enter string:\")\n",
    "count=0\n",
    "for i in string:\n",
    "      count=count+1\n",
    "print(\"Length of the string is:\")\n",
    "print(count)"
   ]
  },
  {
   "cell_type": "markdown",
   "metadata": {},
   "source": [
    "# 7.\tPython Program to Calculate the Number of Upper Case Letters and Lower Case Letters in a String."
   ]
  },
  {
   "cell_type": "code",
   "execution_count": 15,
   "metadata": {},
   "outputs": [
    {
     "name": "stdout",
     "output_type": "stream",
     "text": [
      "Enter string:uts6s6utsrtAAA\n",
      "The number of lowercase characters is:\n",
      "9\n",
      "The number of uppercase characters is:\n",
      "3\n"
     ]
    }
   ],
   "source": [
    "string=input(\"Enter string:\")\n",
    "count1=0\n",
    "count2=0\n",
    "for i in string:\n",
    "      if(i.islower()):\n",
    "            count1=count1+1\n",
    "      elif(i.isupper()):\n",
    "            count2=count2+1\n",
    "print(\"The number of lowercase characters is:\")\n",
    "print(count1)\n",
    "print(\"The number of uppercase characters is:\")\n",
    "print(count2)"
   ]
  },
  {
   "cell_type": "markdown",
   "metadata": {},
   "source": [
    "# 8.\tPython Program to Replace all Occurrences of ‘a’ with $ in a String."
   ]
  },
  {
   "cell_type": "code",
   "execution_count": 16,
   "metadata": {},
   "outputs": [
    {
     "name": "stdout",
     "output_type": "stream",
     "text": [
      "Enter string:aytukA\n",
      "Modified string:\n",
      "$ytuk$\n"
     ]
    }
   ],
   "source": [
    "string=input(\"Enter string:\")\n",
    "string=string.replace('a','$')\n",
    "string=string.replace('A','$')\n",
    "print(\"Modified string:\")\n",
    "print(string)"
   ]
  },
  {
   "cell_type": "markdown",
   "metadata": {},
   "source": [
    "# 9.\tPython program to accept the strings which contains all vowels"
   ]
  },
  {
   "cell_type": "code",
   "execution_count": 2,
   "metadata": {},
   "outputs": [
    {
     "name": "stdout",
     "output_type": "stream",
     "text": [
      "tutorialspoint: Not accepted\n"
     ]
    }
   ],
   "source": [
    "def check_vowels(string):\n",
    "   # vowels\n",
    "   vowels = ['A', 'E', 'I', 'O', 'U', 'a', 'e', 'i', 'o', 'u']\n",
    "   # iterating over the string\n",
    "   for char in string:\n",
    "      if char not in vowels:\n",
    "          print(f\"{string}: Not accepted\")\n",
    "      break\n",
    "   else:\n",
    "      print(f\"{string}: Accepted\")\n",
    "if __name__ == '__main__':\n",
    "   # initializing strings\n",
    "   string_1 = \"tutorialspoint\"\n",
    "   string_2 = \"AEiouaieeu\"\n",
    "   # checking the strings\n",
    "   check_vowels(string_1)\n",
    "   check_vowels(string_2)"
   ]
  },
  {
   "cell_type": "markdown",
   "metadata": {},
   "source": [
    "# 10.\tRemove all duplicates from a given string in Python."
   ]
  },
  {
   "cell_type": "code",
   "execution_count": 3,
   "metadata": {},
   "outputs": [
    {
     "name": "stdout",
     "output_type": "stream",
     "text": [
      "python exrcisalu\n",
      "w3resouc\n"
     ]
    }
   ],
   "source": [
    "from collections import OrderedDict\n",
    "def remove_duplicate(str1):\n",
    "  return \"\".join(OrderedDict.fromkeys(str1))\n",
    "     \n",
    "print(remove_duplicate(\"python exercises practice solution\"))\n",
    "print(remove_duplicate(\"w3resource\"))"
   ]
  },
  {
   "cell_type": "markdown",
   "metadata": {},
   "source": [
    "# 11.\tPython Program to Calculate the Number of Words and the Number of Characters Present in a String."
   ]
  },
  {
   "cell_type": "code",
   "execution_count": 6,
   "metadata": {},
   "outputs": [
    {
     "name": "stdout",
     "output_type": "stream",
     "text": [
      "Enter string:rtfydiydiydyv264\n",
      "Number of words in the string:\n",
      "1\n",
      "Number of characters in the string:\n",
      "16\n"
     ]
    }
   ],
   "source": [
    "string=input(\"Enter string:\")\n",
    "char=0\n",
    "word=1\n",
    "for i in string:\n",
    "      char=char+1\n",
    "      if(i==' '):\n",
    "            word=word+1\n",
    "print(\"Number of words in the string:\")\n",
    "print(word)\n",
    "print(\"Number of characters in the string:\")\n",
    "print(char)"
   ]
  },
  {
   "cell_type": "markdown",
   "metadata": {},
   "source": [
    "# 12.\tPython Program to Calculate the Number of Upper Case Letters and Lower Case Letters in a String"
   ]
  },
  {
   "cell_type": "code",
   "execution_count": 7,
   "metadata": {},
   "outputs": [
    {
     "name": "stdout",
     "output_type": "stream",
     "text": [
      "Enter string:AAAAbbbb\n",
      "The number of lowercase characters is:\n",
      "4\n"
     ]
    }
   ],
   "source": [
    "string=input(\"Enter string:\")\n",
    "count1=0\n",
    "count2=0\n",
    "for i in string:\n",
    "      if(i.islower()):\n",
    "            count1=count1+1\n",
    "      elif(i.isupper()):\n",
    "            count2=count2+1\n",
    "print(\"The number of lowercase characters is:\")\n",
    "print(count1)"
   ]
  },
  {
   "cell_type": "markdown",
   "metadata": {},
   "source": [
    "# 13.\tPython program to swap commas and dots in a String"
   ]
  },
  {
   "cell_type": "code",
   "execution_count": 9,
   "metadata": {},
   "outputs": [
    {
     "name": "stdout",
     "output_type": "stream",
     "text": [
      "14.625.498, 002\n"
     ]
    }
   ],
   "source": [
    "def Replace(str1): \n",
    "    str1 = str1.replace(', ', 'third') \n",
    "    str1 = str1.replace('.', ', ') \n",
    "    str1 = str1.replace('third', '.') \n",
    "    return str1 \n",
    "      \n",
    "string = \"14, 625, 498.002\"\n",
    "print(Replace(string))  "
   ]
  },
  {
   "cell_type": "markdown",
   "metadata": {},
   "source": [
    "# 14.\tPython program to check for URL in a String."
   ]
  },
  {
   "cell_type": "code",
   "execution_count": 13,
   "metadata": {},
   "outputs": [
    {
     "name": "stdout",
     "output_type": "stream",
     "text": [
      "Urls:  ['https://auth.geeksforgeeks.org/user/Chinmoy%20Lenka/articles', 'http://www.geeksforgeeks.org/']\n"
     ]
    }
   ],
   "source": [
    "import re \n",
    "  \n",
    "def Find(string): \n",
    "  \n",
    "    \n",
    "    regex = r\"(?i)\\b((?:https?://|www\\d{0,3}[.]|[a-z0-9.\\-]+[.][a-z]{2,4}/)(?:[^\\s()<>]+|\\(([^\\s()<>]+|(\\([^\\s()<>]+\\)))*\\))+(?:\\(([^\\s()<>]+|(\\([^\\s()<>]+\\)))*\\)|[^\\s`!()\\[\\]{};:'\\\".,<>?«»“”‘’]))\"\n",
    "    url = re.findall(regex,string)       \n",
    "    return [x[0] for x in url] \n",
    "      \n",
    "\n",
    "string = 'My Profile: https://auth.geeksforgeeks.org/user/Chinmoy%20Lenka/articles in the portal of http://www.geeksforgeeks.org/'\n",
    "print(\"Urls: \", Find(string)) "
   ]
  },
  {
   "cell_type": "code",
   "execution_count": null,
   "metadata": {},
   "outputs": [],
   "source": []
  }
 ],
 "metadata": {
  "kernelspec": {
   "display_name": "Python 3",
   "language": "python",
   "name": "python3"
  },
  "language_info": {
   "codemirror_mode": {
    "name": "ipython",
    "version": 3
   },
   "file_extension": ".py",
   "mimetype": "text/x-python",
   "name": "python",
   "nbconvert_exporter": "python",
   "pygments_lexer": "ipython3",
   "version": "3.8.3"
  }
 },
 "nbformat": 4,
 "nbformat_minor": 4
}
