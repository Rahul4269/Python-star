{
 "cells": [
  {
   "cell_type": "markdown",
   "metadata": {},
   "source": [
    "# Python Program to read two numbers and print their quotient and remainder."
   ]
  },
  {
   "cell_type": "code",
   "execution_count": 10,
   "metadata": {},
   "outputs": [
    {
     "name": "stdout",
     "output_type": "stream",
     "text": [
      "quotient 2\n",
      "remainder 1\n"
     ]
    }
   ],
   "source": [
    "a=5\n",
    "b=2\n",
    "c=(a//b)\n",
    "d=(a%b)\n",
    "print(\"quotient\",c)\n",
    "print(\"remainder\",d)"
   ]
  },
  {
   "cell_type": "markdown",
   "metadata": {},
   "source": [
    "# \tPython Program to take the temperature in Celsius and convert it to Fahrenheit."
   ]
  },
  {
   "cell_type": "code",
   "execution_count": 12,
   "metadata": {},
   "outputs": [
    {
     "name": "stdout",
     "output_type": "stream",
     "text": [
      " Enter Temperature in celsius12\n",
      "temperature in fahrenheit 53.6\n"
     ]
    }
   ],
   "source": [
    "a=int(input(\" Enter Temperature in celsius\"))\n",
    "Fahrenheit=(a*(9/5))+32\n",
    "print(\"temperature in fahrenheit\",Fahrenheit)"
   ]
  },
  {
   "cell_type": "markdown",
   "metadata": {},
   "source": [
    "# \tPython Program to read height in centimeters and then convert the height to feet and inches"
   ]
  },
  {
   "cell_type": "code",
   "execution_count": null,
   "metadata": {},
   "outputs": [],
   "source": [
    "a=int(input(\" Enter height in centimeter\"))\n",
    "feet=a/30.48\n",
    "inches=a/2.54\n",
    "\n",
    "print(\"temperature in fahrenheit\",Fahrenheit)"
   ]
  }
 ],
 "metadata": {
  "kernelspec": {
   "display_name": "Python 3",
   "language": "python",
   "name": "python3"
  },
  "language_info": {
   "codemirror_mode": {
    "name": "ipython",
    "version": 3
   },
   "file_extension": ".py",
   "mimetype": "text/x-python",
   "name": "python",
   "nbconvert_exporter": "python",
   "pygments_lexer": "ipython3",
   "version": "3.8.3"
  }
 },
 "nbformat": 4,
 "nbformat_minor": 4
}
