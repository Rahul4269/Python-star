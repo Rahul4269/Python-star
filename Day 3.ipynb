{
 "cells": [
  {
   "cell_type": "markdown",
   "metadata": {},
   "source": [
    "# 1.\tPython program to add two numbers."
   ]
  },
  {
   "cell_type": "code",
   "execution_count": 1,
   "metadata": {},
   "outputs": [
    {
     "name": "stdout",
     "output_type": "stream",
     "text": [
      "add 6\n"
     ]
    }
   ],
   "source": [
    "a=2\n",
    "b=4\n",
    "c=a+b\n",
    "print(\"add\",c)"
   ]
  },
  {
   "cell_type": "markdown",
   "metadata": {},
   "source": [
    "# 2.\tPython Program to print odd numbers within a given range."
   ]
  },
  {
   "cell_type": "code",
   "execution_count": 10,
   "metadata": {},
   "outputs": [
    {
     "name": "stdout",
     "output_type": "stream",
     "text": [
      "3 is odd number\n",
      "5 is odd number\n",
      "7 is odd number\n",
      "9 is odd number\n"
     ]
    }
   ],
   "source": [
    "for i in range(2,11):\n",
    "    if i%2==1:\n",
    "        print(i,\"is odd number\")        "
   ]
  },
  {
   "cell_type": "markdown",
   "metadata": {},
   "source": [
    "# 3.\tPython Program for Program to find area of a circle."
   ]
  },
  {
   "cell_type": "code",
   "execution_count": 11,
   "metadata": {},
   "outputs": [
    {
     "name": "stdout",
     "output_type": "stream",
     "text": [
      "enter the radious2\n",
      "area_of_circle is 12.56\n"
     ]
    }
   ],
   "source": [
    "r=int(input(\"enter the radious\"))\n",
    "area_of_circle=3.14*r**2\n",
    "print(\"area_of_circle is\",area_of_circle)"
   ]
  },
  {
   "cell_type": "markdown",
   "metadata": {},
   "source": [
    "# 4.\tPython Program for Simple interest calculation."
   ]
  },
  {
   "cell_type": "code",
   "execution_count": 14,
   "metadata": {},
   "outputs": [
    {
     "name": "stdout",
     "output_type": "stream",
     "text": [
      "enter value1\n",
      "enter value1\n",
      "enter value2\n",
      "simple_Interest is 0.02\n"
     ]
    }
   ],
   "source": [
    "p=int(input(\"enter value\"))\n",
    "t=int(input(\"enter value\"))\n",
    "r=int(input(\"enter value\"))\n",
    "\n",
    "s_I=(p*t*r)/100\n",
    "\n",
    "print(\"simple_Interest is\",s_I)"
   ]
  },
  {
   "cell_type": "markdown",
   "metadata": {},
   "source": [
    "# 5.\tPython Program for area of triangle using formula S*(S-a)*(S-b)*(S-c) where S=(a+b+c)/2  "
   ]
  },
  {
   "cell_type": "code",
   "execution_count": 31,
   "metadata": {},
   "outputs": [
    {
     "name": "stdout",
     "output_type": "stream",
     "text": [
      "enter value2\n",
      "enter value2\n",
      "enter value2\n",
      "Area of triangle is 1.7320508075688772\n"
     ]
    }
   ],
   "source": [
    "import math\n",
    "a=int(input(\"enter value\"))\n",
    "b=int(input(\"enter value\"))\n",
    "c=int(input(\"enter value\"))\n",
    "S=(a+b+c)/2\n",
    "Area_of_triangle=math.sqrt(S*(S-a)*(S-b)*(S-c))\n",
    "print(\"Area of triangle is\",Area_of_triangle)"
   ]
  },
  {
   "cell_type": "markdown",
   "metadata": {},
   "source": [
    "# 6.\tPython program to reverse three digits number without using loop."
   ]
  },
  {
   "cell_type": "code",
   "execution_count": 44,
   "metadata": {},
   "outputs": [
    {
     "name": "stdout",
     "output_type": "stream",
     "text": [
      "Please Enter any Number: 123\n",
      "n Reverse of entered number is = 321\n"
     ]
    }
   ],
   "source": [
    "Num = int(input(\"Please Enter any Number: \"))\n",
    " \n",
    "Result = 0\n",
    "def Result_Int(Num):\n",
    "    global Result\n",
    "    if(Num > 0):\n",
    "        Reminder = Num %10\n",
    "        Result = (Result *10) + Reminder\n",
    "        Result_Int(Num //10)\n",
    "    return Result\n",
    " \n",
    "Result = Result_Int(Num)\n",
    "print(\"n Reverse of entered number is = %d\" %Result)"
   ]
  },
  {
   "cell_type": "markdown",
   "metadata": {},
   "source": [
    "# 7.\tPython program to calculate gross salary where gross salary=Basic+HRA+DA\n",
    "In this HRA is 16% of Basic, DA is 12% of Basic\n"
   ]
  },
  {
   "cell_type": "code",
   "execution_count": 46,
   "metadata": {},
   "outputs": [
    {
     "name": "stdout",
     "output_type": "stream",
     "text": [
      "enter the basic salary:2000\n",
      "salary 2560.0\n"
     ]
    }
   ],
   "source": [
    "basic=int(input(\"enter the basic salary:\"))\n",
    "HRA=0.16*basic\n",
    "DA=0.12*basic\n",
    "salary=(basic+HRA+DA)\n",
    "print(\"salary\",salary)"
   ]
  },
  {
   "cell_type": "markdown",
   "metadata": {},
   "source": [
    "# 8.\tPython program to input age of three brothers and find youngest using conditional operator."
   ]
  },
  {
   "cell_type": "code",
   "execution_count": 48,
   "metadata": {},
   "outputs": [
    {
     "name": "stdout",
     "output_type": "stream",
     "text": [
      "age of first brother:12\n",
      "age of second brother:12\n",
      "age of third brother:12\n",
      "invalid input\n"
     ]
    }
   ],
   "source": [
    "a=int(input(\"age of first brother:\"))\n",
    "b=int(input(\"age of second brother:\"))\n",
    "c=int(input(\"age of third brother:\"))\n",
    "if (a<b)and (a<c):\n",
    "    print(\"a is younger brother\")\n",
    "elif  (b<a)and(b<c):\n",
    "    print(\"b is younger brother\")\n",
    "elif (c<a)and(c<b):\n",
    "    print(\"c is younger bother\")\n",
    "else:\n",
    "    print(\"invalid input\")"
   ]
  },
  {
   "cell_type": "markdown",
   "metadata": {},
   "source": [
    "# 9.\tPython program to exchange the values of two numbers without using a temporary variable."
   ]
  },
  {
   "cell_type": "code",
   "execution_count": 49,
   "metadata": {},
   "outputs": [
    {
     "name": "stdout",
     "output_type": "stream",
     "text": [
      "Enter value of first variable: 2\n",
      "Enter value of second variable: 3\n",
      "a is: 3  b is: 2\n"
     ]
    }
   ],
   "source": [
    "a=int(input(\"Enter value of first variable: \"))\n",
    "b=int(input(\"Enter value of second variable: \"))\n",
    "a=a+b\n",
    "b=a-b\n",
    "a=a-b\n",
    "print(\"a is:\",a,\" b is:\",b)"
   ]
  },
  {
   "cell_type": "markdown",
   "metadata": {},
   "source": [
    "# 10.\tPython program to evaluate to false if the variables on either side of the operator point to the same object and true otherwise."
   ]
  },
  {
   "cell_type": "code",
   "execution_count": 50,
   "metadata": {},
   "outputs": [
    {
     "name": "stdout",
     "output_type": "stream",
     "text": [
      "true\n"
     ]
    }
   ],
   "source": [
    "x = 5\n",
    "if (type(x) is int): \n",
    "    print(\"true\") \n",
    "else: \n",
    "    print(\"false\") "
   ]
  },
  {
   "cell_type": "markdown",
   "metadata": {},
   "source": [
    "# 1.\tWrite a Python program to find maximum between two numbers using if else."
   ]
  },
  {
   "cell_type": "code",
   "execution_count": 53,
   "metadata": {},
   "outputs": [
    {
     "name": "stdout",
     "output_type": "stream",
     "text": [
      "enter value:13\n",
      "enter value:-45\n",
      "a is max\n"
     ]
    }
   ],
   "source": [
    "a=int(input(\"enter value:\"))\n",
    "b=int(input(\"enter value:\"))\n",
    "\n",
    "if (a>b):\n",
    "    print(\"a is max\")\n",
    "elif  (b>a):\n",
    "    print(\"b is max\")\n",
    "else:\n",
    "    print(\"both are same \")"
   ]
  },
  {
   "cell_type": "markdown",
   "metadata": {},
   "source": [
    "# 2.\tPython Program to generate all the divisors of an integer."
   ]
  },
  {
   "cell_type": "code",
   "execution_count": 59,
   "metadata": {},
   "outputs": [
    {
     "name": "stdout",
     "output_type": "stream",
     "text": [
      "enter the number12\n",
      "1\n",
      "2\n",
      "3\n",
      "4\n",
      "6\n",
      "12\n"
     ]
    }
   ],
   "source": [
    "x=int(input(\"enter the number\"))\n",
    "for i in range (1,x+1):\n",
    "    if x%i==0:\n",
    "        print(i%n)"
   ]
  },
  {
   "cell_type": "markdown",
   "metadata": {},
   "source": [
    "# 3.\tPython Program to Take in the Marks of 5 Subjects and Display the Grade"
   ]
  },
  {
   "cell_type": "code",
   "execution_count": 61,
   "metadata": {},
   "outputs": [
    {
     "name": "stdout",
     "output_type": "stream",
     "text": [
      "subject1:12\n",
      " subject2:598\n",
      "subject3:45\n",
      "subject4:96\n",
      "subject5:45\n",
      "Grade: A\n"
     ]
    }
   ],
   "source": [
    "a=int(input(\"subject1:\"))\n",
    "b=int(input(\" subject2:\"))\n",
    "c=int(input(\"subject3:\"))\n",
    "d=int(input(\"subject4:\"))\n",
    "e=int(input(\"subject5:\"))\n",
    "avg=(a+b+c+d+e)/5\n",
    "if(avg>=90):\n",
    "    print(\"Grade: A\")\n",
    "elif(avg>=80)&a(vg<90):\n",
    "    print(\"Grade: B\")\n",
    "elif(avg>=70)&(avg<80):\n",
    "    print(\"Grade: C\")\n",
    "elif(avg>=60)&(avg<70):\n",
    "    print(\"Grade: D\")\n",
    "else:\n",
    "    print(\"Grade: F\")"
   ]
  },
  {
   "cell_type": "markdown",
   "metadata": {},
   "source": [
    "# 4.\tPython Program to accept three distinct digits and print all possible combinations from the digits"
   ]
  },
  {
   "cell_type": "code",
   "execution_count": 62,
   "metadata": {},
   "outputs": [
    {
     "name": "stdout",
     "output_type": "stream",
     "text": [
      "Enter first number:1\n",
      "Enter second number:2\n",
      "Enter third number:3\n",
      "1 2 3\n",
      "1 3 2\n",
      "2 1 3\n",
      "2 3 1\n",
      "3 1 2\n",
      "3 2 1\n"
     ]
    }
   ],
   "source": [
    "a=int(input(\"Enter first number:\"))\n",
    "b=int(input(\"Enter second number:\"))\n",
    "c=int(input(\"Enter third number:\"))\n",
    "d=[]\n",
    "d.append(a)\n",
    "d.append(b)\n",
    "d.append(c)\n",
    "for i in range(0,3):\n",
    "    for j in range(0,3):\n",
    "        for k in range(0,3):\n",
    "            if(i!=j&j!=k&k!=i):\n",
    "                print(d[i],d[j],d[k])"
   ]
  },
  {
   "cell_type": "markdown",
   "metadata": {},
   "source": [
    "# 5.\tWrite a Python program to check whether a number is positive, negative or zero."
   ]
  },
  {
   "cell_type": "code",
   "execution_count": 65,
   "metadata": {},
   "outputs": [
    {
     "name": "stdout",
     "output_type": "stream",
     "text": [
      "enter the number:0\n",
      "zero\n"
     ]
    }
   ],
   "source": [
    "num=int(input(\"enter the number:\"))\n",
    "if num>0:\n",
    "    print(\"positive number\")\n",
    "elif num<0:\n",
    "    print(\"negative number\")\n",
    "else:\n",
    "    print(\"zero\")"
   ]
  },
  {
   "cell_type": "markdown",
   "metadata": {},
   "source": [
    "# 6.\tPython Program to check Armstrong Number"
   ]
  },
  {
   "cell_type": "code",
   "execution_count": 68,
   "metadata": {},
   "outputs": [
    {
     "name": "stdout",
     "output_type": "stream",
     "text": [
      "enter the value153\n",
      "armstong no\n"
     ]
    }
   ],
   "source": [
    "no=int(input(\"enter the value\"))\n",
    "temp=no\n",
    "sum=0\n",
    "while temp>0:\n",
    "    rem=temp%10\n",
    "    sum=sum+(rem**3)\n",
    "    temp=temp//10\n",
    "if no==sum:\n",
    "    print(\"armstong no\")\n",
    "else:\n",
    "    print(\"not armstrong no\")"
   ]
  },
  {
   "cell_type": "markdown",
   "metadata": {},
   "source": [
    "# 7.\tProgram to Find the Smallest Divisor of an Integer"
   ]
  },
  {
   "cell_type": "code",
   "execution_count": 69,
   "metadata": {},
   "outputs": [
    {
     "name": "stdout",
     "output_type": "stream",
     "text": [
      "Enter an integer:12\n",
      "Smallest divisor is: 2\n"
     ]
    }
   ],
   "source": [
    "n=int(input(\"Enter an integer:\"))\n",
    "a=[]\n",
    "for i in range(2,n+1):\n",
    "    if(n%i==0):\n",
    "        a.append(i)\n",
    "a.sort()\n",
    "print(\"Smallest divisor is:\",a[0])"
   ]
  },
  {
   "cell_type": "markdown",
   "metadata": {},
   "source": [
    "# 8.\tWrite Python program to input a number between 1 to 7 and print corresponding day name."
   ]
  },
  {
   "cell_type": "code",
   "execution_count": 70,
   "metadata": {},
   "outputs": [
    {
     "name": "stdout",
     "output_type": "stream",
     "text": [
      "Enter weekday day number (1-7) : 3\n",
      "\n",
      "Wednesday\n"
     ]
    }
   ],
   "source": [
    "\n",
    "weekday = int(input(\"Enter weekday day number (1-7) : \"))\n",
    "\n",
    "if weekday == 1 :\n",
    "    print(\"\\nMonday\");\n",
    "\n",
    "elif weekday == 2 :\n",
    "    print(\"\\nTuesday\")\n",
    "\n",
    "elif(weekday == 3) :\n",
    "    print(\"\\nWednesday\")\n",
    "\n",
    "elif(weekday == 4) :\n",
    "    print(\"\\nThursday\")\n",
    "\n",
    "elif(weekday == 5) :\n",
    "    print(\"\\nFriday\")\n",
    "\n",
    "elif(weekday == 6) :\n",
    "    print(\"\\nSaturday\")\n",
    "\n",
    "elif (weekday == 7) :\n",
    "    print(\"\\nSunday\")\n",
    "\n",
    "else :\n",
    "    print(\"\\nPlease enter weekday number between 1-7.\")\n",
    "    "
   ]
  },
  {
   "cell_type": "code",
   "execution_count": null,
   "metadata": {},
   "outputs": [],
   "source": []
  }
 ],
 "metadata": {
  "kernelspec": {
   "display_name": "Python 3",
   "language": "python",
   "name": "python3"
  },
  "language_info": {
   "codemirror_mode": {
    "name": "ipython",
    "version": 3
   },
   "file_extension": ".py",
   "mimetype": "text/x-python",
   "name": "python",
   "nbconvert_exporter": "python",
   "pygments_lexer": "ipython3",
   "version": "3.8.3"
  }
 },
 "nbformat": 4,
 "nbformat_minor": 4
}
